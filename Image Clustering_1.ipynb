{
 "cells": [
  {
   "cell_type": "markdown",
   "metadata": {},
   "source": [
    "## Image Clustering"
   ]
  },
  {
   "cell_type": "code",
   "execution_count": 6,
   "metadata": {},
   "outputs": [],
   "source": [
    "from keras.preprocessing import image\n",
    "from keras.applications.vgg16 import VGG16\n",
    "from keras.applications.vgg16 import preprocess_input\n",
    "import numpy as np\n",
    "from sklearn.cluster import KMeans\n",
    "import glob"
   ]
  },
  {
   "cell_type": "code",
   "execution_count": 2,
   "metadata": {},
   "outputs": [
    {
     "name": "stdout",
     "output_type": "stream",
     "text": [
      "WARNING:tensorflow:From /Users/aravindagayan/anaconda3/envs/TF2/lib/python3.7/site-packages/keras/backend/tensorflow_backend.py:74: The name tf.get_default_graph is deprecated. Please use tf.compat.v1.get_default_graph instead.\n",
      "\n",
      "WARNING:tensorflow:From /Users/aravindagayan/anaconda3/envs/TF2/lib/python3.7/site-packages/keras/backend/tensorflow_backend.py:517: The name tf.placeholder is deprecated. Please use tf.compat.v1.placeholder instead.\n",
      "\n",
      "WARNING:tensorflow:From /Users/aravindagayan/anaconda3/envs/TF2/lib/python3.7/site-packages/keras/backend/tensorflow_backend.py:4138: The name tf.random_uniform is deprecated. Please use tf.random.uniform instead.\n",
      "\n",
      "WARNING:tensorflow:From /Users/aravindagayan/anaconda3/envs/TF2/lib/python3.7/site-packages/keras/backend/tensorflow_backend.py:3976: The name tf.nn.max_pool is deprecated. Please use tf.nn.max_pool2d instead.\n",
      "\n",
      "WARNING:tensorflow:From /Users/aravindagayan/anaconda3/envs/TF2/lib/python3.7/site-packages/keras/backend/tensorflow_backend.py:174: The name tf.get_default_session is deprecated. Please use tf.compat.v1.get_default_session instead.\n",
      "\n",
      "WARNING:tensorflow:From /Users/aravindagayan/anaconda3/envs/TF2/lib/python3.7/site-packages/keras/backend/tensorflow_backend.py:181: The name tf.ConfigProto is deprecated. Please use tf.compat.v1.ConfigProto instead.\n",
      "\n",
      "WARNING:tensorflow:From /Users/aravindagayan/anaconda3/envs/TF2/lib/python3.7/site-packages/keras/backend/tensorflow_backend.py:186: The name tf.Session is deprecated. Please use tf.compat.v1.Session instead.\n",
      "\n",
      "WARNING:tensorflow:From /Users/aravindagayan/anaconda3/envs/TF2/lib/python3.7/site-packages/keras/backend/tensorflow_backend.py:190: The name tf.global_variables is deprecated. Please use tf.compat.v1.global_variables instead.\n",
      "\n",
      "WARNING:tensorflow:From /Users/aravindagayan/anaconda3/envs/TF2/lib/python3.7/site-packages/keras/backend/tensorflow_backend.py:199: The name tf.is_variable_initialized is deprecated. Please use tf.compat.v1.is_variable_initialized instead.\n",
      "\n",
      "WARNING:tensorflow:From /Users/aravindagayan/anaconda3/envs/TF2/lib/python3.7/site-packages/keras/backend/tensorflow_backend.py:206: The name tf.variables_initializer is deprecated. Please use tf.compat.v1.variables_initializer instead.\n",
      "\n",
      "_________________________________________________________________\n",
      "Layer (type)                 Output Shape              Param #   \n",
      "=================================================================\n",
      "input_1 (InputLayer)         (None, None, None, 3)     0         \n",
      "_________________________________________________________________\n",
      "block1_conv1 (Conv2D)        (None, None, None, 64)    1792      \n",
      "_________________________________________________________________\n",
      "block1_conv2 (Conv2D)        (None, None, None, 64)    36928     \n",
      "_________________________________________________________________\n",
      "block1_pool (MaxPooling2D)   (None, None, None, 64)    0         \n",
      "_________________________________________________________________\n",
      "block2_conv1 (Conv2D)        (None, None, None, 128)   73856     \n",
      "_________________________________________________________________\n",
      "block2_conv2 (Conv2D)        (None, None, None, 128)   147584    \n",
      "_________________________________________________________________\n",
      "block2_pool (MaxPooling2D)   (None, None, None, 128)   0         \n",
      "_________________________________________________________________\n",
      "block3_conv1 (Conv2D)        (None, None, None, 256)   295168    \n",
      "_________________________________________________________________\n",
      "block3_conv2 (Conv2D)        (None, None, None, 256)   590080    \n",
      "_________________________________________________________________\n",
      "block3_conv3 (Conv2D)        (None, None, None, 256)   590080    \n",
      "_________________________________________________________________\n",
      "block3_pool (MaxPooling2D)   (None, None, None, 256)   0         \n",
      "_________________________________________________________________\n",
      "block4_conv1 (Conv2D)        (None, None, None, 512)   1180160   \n",
      "_________________________________________________________________\n",
      "block4_conv2 (Conv2D)        (None, None, None, 512)   2359808   \n",
      "_________________________________________________________________\n",
      "block4_conv3 (Conv2D)        (None, None, None, 512)   2359808   \n",
      "_________________________________________________________________\n",
      "block4_pool (MaxPooling2D)   (None, None, None, 512)   0         \n",
      "_________________________________________________________________\n",
      "block5_conv1 (Conv2D)        (None, None, None, 512)   2359808   \n",
      "_________________________________________________________________\n",
      "block5_conv2 (Conv2D)        (None, None, None, 512)   2359808   \n",
      "_________________________________________________________________\n",
      "block5_conv3 (Conv2D)        (None, None, None, 512)   2359808   \n",
      "_________________________________________________________________\n",
      "block5_pool (MaxPooling2D)   (None, None, None, 512)   0         \n",
      "=================================================================\n",
      "Total params: 14,714,688\n",
      "Trainable params: 14,714,688\n",
      "Non-trainable params: 0\n",
      "_________________________________________________________________\n"
     ]
    }
   ],
   "source": [
    "model = VGG16(weights='imagenet', include_top=False)\n",
    "model.summary()"
   ]
  },
  {
   "cell_type": "code",
   "execution_count": 3,
   "metadata": {},
   "outputs": [
    {
     "name": "stdout",
     "output_type": "stream",
     "text": [
      "(1, 7, 7, 512)\n"
     ]
    }
   ],
   "source": [
    "img_path = 'images/image_1.jpg'\n",
    "img = image.load_img(img_path, target_size=(224, 224))\n",
    "img_data = image.img_to_array(img)\n",
    "img_data = np.expand_dims(img_data, axis=0)\n",
    "img_data = preprocess_input(img_data)\n",
    "\n",
    "vgg16_feature = model.predict(img_data)\n",
    "\n",
    "print(vgg16_feature.shape)"
   ]
  },
  {
   "cell_type": "code",
   "execution_count": 7,
   "metadata": {},
   "outputs": [],
   "source": [
    "vgg16_feature_list = []\n",
    "path = 'images/cl2/*'\n",
    "\n",
    "for im in glob.glob(path):\n",
    "    # process the files under the directory 'dogs' or 'cats'\n",
    "    # ...\n",
    "\n",
    "    img = image.load_img(im, target_size=(224, 224))\n",
    "    img_data = image.img_to_array(img)\n",
    "    img_data = np.expand_dims(img_data, axis=0)\n",
    "    img_data = preprocess_input(img_data)\n",
    "\n",
    "    vgg16_feature = model.predict(img_data)\n",
    "    vgg16_feature_np = np.array(vgg16_feature)\n",
    "    vgg16_feature_list.append(vgg16_feature_np.flatten())"
   ]
  },
  {
   "cell_type": "code",
   "execution_count": 8,
   "metadata": {},
   "outputs": [],
   "source": [
    "vgg16_feature_list_np = np.array(vgg16_feature_list)\n",
    "kmeans = KMeans(n_clusters=2, random_state=0).fit(vgg16_feature_list_np)"
   ]
  },
  {
   "cell_type": "code",
   "execution_count": 12,
   "metadata": {},
   "outputs": [
    {
     "name": "stdout",
     "output_type": "stream",
     "text": [
      "[1 0 0 0 1 0 1 1 0 1 0 0 0 0 0 1 0 1 0 0 0 0 1 0 0 0 0 0 0]\n"
     ]
    }
   ],
   "source": [
    "print(kmeans.labels_)"
   ]
  },
  {
   "cell_type": "code",
   "execution_count": 10,
   "metadata": {},
   "outputs": [
    {
     "data": {
      "text/plain": [
       "['images/cl2/0C396AF2A4B94CE38389F71394D7C859.jpg',\n",
       " 'images/cl2/0FE26E2941A943A7B1EBCEBD4C739436.jpg',\n",
       " 'images/cl2/11DBBE0366B84BCBB8389E01142D040F.jpg',\n",
       " 'images/cl2/14236F54FAC14F75A3762AA9715D57B0.jpg',\n",
       " 'images/cl2/1ACD18D5F1C1443085CFBB94A86A7D8D.jpg',\n",
       " 'images/cl2/1E023D8C367E4E678AC225B18A36FFD1.jpg',\n",
       " 'images/cl2/21115429C56E442AA4B9EB5CC7C6929C.jpg',\n",
       " 'images/cl2/2B7077131E964A1DABC986FDBB01FCB6.jpg',\n",
       " 'images/cl2/38B416F23E7E492D87BBC236A0293153.jpg',\n",
       " 'images/cl2/3FDAE8EBF8814A1589A670D997A15000.jpg',\n",
       " 'images/cl2/4AA2F26EBD9C44139D94C6448BB51E9A.jpg',\n",
       " 'images/cl2/541D7A2CE4874F2A9B2F4FB084C46F03.jpg',\n",
       " 'images/cl2/55B9C7C3D0C24BAEA8F8816447B4B5CD.jpg',\n",
       " 'images/cl2/6AC7A353A31C42EE8B546ED3C90DE789.jpg',\n",
       " 'images/cl2/6B1502054CA14BE2BD5975BBF8715493.jpg',\n",
       " 'images/cl2/6C2EE2C3C73A4E58AB28CC0C2CD49865.jpg',\n",
       " 'images/cl2/78EF20B05523424DA40D373F1FFA9DF8.jpg',\n",
       " 'images/cl2/914F0D0B242B4FA588EC8BCBAAB11161.jpg',\n",
       " 'images/cl2/B5F4E7FD11F3416290A6B792CE8B5D13.jpg',\n",
       " 'images/cl2/B6E2AD0B42174363A25CFEE60EE4F8AA.jpg',\n",
       " 'images/cl2/BBDF938A5ACF4EE989E917B77D694E07.jpg',\n",
       " 'images/cl2/BFF5252EED414FC89E20441280A66CD6.jpg',\n",
       " 'images/cl2/CCDD7E3D438846CF960EC5392C8944BE.jpg',\n",
       " 'images/cl2/DD879802FC6A49B2A6C2A84989B0F116.jpg',\n",
       " 'images/cl2/E4BEACF973254D0EA64C2DCDB5454A1C.jpg',\n",
       " 'images/cl2/E59000E2958243698AFE51D807911C5F.jpg',\n",
       " 'images/cl2/E98BFA2A7AE24EA08509CC014FAC7C53.jpg',\n",
       " 'images/cl2/FA5364DAFD144A59B944D37E5EBBBC03.jpg',\n",
       " 'images/cl2/FE1FCB97AD7D41EFB08CE89C8CAE585F.jpg']"
      ]
     },
     "execution_count": 10,
     "metadata": {},
     "output_type": "execute_result"
    }
   ],
   "source": [
    "glob.glob(path)"
   ]
  },
  {
   "cell_type": "code",
   "execution_count": null,
   "metadata": {},
   "outputs": [],
   "source": []
  }
 ],
 "metadata": {
  "kernelspec": {
   "display_name": "Python (myenv)",
   "language": "python",
   "name": "myenv"
  },
  "language_info": {
   "codemirror_mode": {
    "name": "ipython",
    "version": 3
   },
   "file_extension": ".py",
   "mimetype": "text/x-python",
   "name": "python",
   "nbconvert_exporter": "python",
   "pygments_lexer": "ipython3",
   "version": "3.7.5"
  }
 },
 "nbformat": 4,
 "nbformat_minor": 2
}
